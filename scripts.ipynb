{
 "cells": [
  {
   "cell_type": "markdown",
   "metadata": {},
   "source": [
    "ĐÂY LÀ CHỖ ĐỂ TEST FUNCTION, THỬ PROCESSING ẢNH"
   ]
  },
  {
   "cell_type": "code",
   "execution_count": null,
   "metadata": {},
   "outputs": [],
   "source": []
  }
 ],
 "metadata": {
  "interpreter": {
   "hash": "a5f9b48e1f0fd64246b62eb6589e43249bbf26a93472fd047fc822513d4bac37"
  },
  "kernelspec": {
   "display_name": "Python 3.8.13 ('FootEstimate')",
   "language": "python",
   "name": "python3"
  },
  "language_info": {
   "name": "python",
   "version": "3.8.13"
  },
  "orig_nbformat": 4
 },
 "nbformat": 4,
 "nbformat_minor": 2
}
