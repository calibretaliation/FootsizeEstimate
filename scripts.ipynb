{
 "cells": [
  {
   "cell_type": "markdown",
   "metadata": {},
   "source": [
    "ĐÂY LÀ CHỖ ĐỂ TEST FUNCTION, THỬ PROCESSING ẢNH"
   ]
  }
 ],
 "metadata": {
  "language_info": {
   "name": "python"
  },
  "orig_nbformat": 4
 },
 "nbformat": 4,
 "nbformat_minor": 2
}
